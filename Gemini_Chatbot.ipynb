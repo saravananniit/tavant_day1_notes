{
  "nbformat": 4,
  "nbformat_minor": 0,
  "metadata": {
    "colab": {
      "provenance": []
    },
    "kernelspec": {
      "name": "python3",
      "display_name": "Python 3"
    },
    "language_info": {
      "name": "python"
    }
  },
  "cells": [
    {
      "cell_type": "markdown",
      "source": [
        "***Gemini Chatbot***\n",
        "\n",
        "A simple chatbot built with Google Gemini API inside Google Colab.\n",
        "It runs in a loop where you can chat with the Gemini model (gemini-2.0-flash) until you type exit.\n",
        "\n",
        "***Features***\n",
        "\n",
        "Runs directly in Google Colab\n",
        "\n",
        "Uses Gemini API for responses\n",
        "\n",
        "Simple text-based chat loop\n",
        "\n",
        "Secure API key handling via Colab Secrets\n",
        "\n",
        " ***Requirements***\n",
        "\n",
        "Google Colab account\n",
        "\n",
        "google-generativeai library\n",
        "\n",
        "A valid Gemini API key"
      ],
      "metadata": {
        "id": "MmWVCuN3IKev"
      }
    },
    {
      "cell_type": "code",
      "source": [
        "# ==============================\n",
        "# Step 1: Install dependency\n",
        "# ==============================\n",
        "!pip install google-generativeai --quiet\n",
        "\n"
      ],
      "metadata": {
        "id": "5I0yOyGJHkte"
      },
      "execution_count": null,
      "outputs": []
    },
    {
      "cell_type": "code",
      "source": [
        "from google.colab import userdata\n",
        "userdata.get('GEMINI_API_KEY')"
      ],
      "metadata": {
        "colab": {
          "base_uri": "https://localhost:8080/",
          "height": 35
        },
        "id": "FzdIN9g9n4vm",
        "outputId": "bfd281cf-5563-4cff-ac09-ec45d9bb45f"
      },
      "execution_count": null,
      "outputs": [
        {
          "output_type": "execute_result",
          "data": {
            "text/plain": [
              "''"
            ],
            "application/vnd.google.colaboratory.intrinsic+json": {
              "type": "string"
            }
          },
          "metadata": {},
          "execution_count": 2
        }
      ]
    },
    {
      "cell_type": "code",
      "source": [
        "# ==============================\n",
        "# Step 2: Import and Configure\n",
        "# ==============================\n",
        "import google.generativeai as genai\n",
        "from google.colab import userdata   # for fetching secret key\n",
        "\n",
        "# Retrieve API key stored in Colab's secrets\n",
        "API_KEY = userdata.get('GEMINI_API_KEY')   # make sure you saved it with this name\n",
        "genai.configure(api_key=API_KEY)\n"
      ],
      "metadata": {
        "id": "XUIpbpmp2Xul"
      },
      "execution_count": null,
      "outputs": []
    },
    {
      "cell_type": "code",
      "source": [
        "# ==============================\n",
        "# Step 3: Initialize Model\n",
        "# ==============================\n",
        "model = genai.GenerativeModel(\"gemini-2.0-flash\")\n"
      ],
      "metadata": {
        "id": "JtPa2D7I2lU1"
      },
      "execution_count": null,
      "outputs": []
    },
    {
      "cell_type": "code",
      "source": [
        "# ==============================\n",
        "# Step 4: Run Simple Chat Loop\n",
        "# ==============================\n",
        "print(\" Simple Gemini Chatbot\")\n",
        "print(\"Type 'exit' to stop.\\n\")\n",
        "\n",
        "while True:\n",
        "    user_input = input(\"You: \")\n",
        "    if user_input.lower() in [\"exit\", \"quit\", \"bye\"]:\n",
        "        print(\"Bot: Goodbye! \")\n",
        "        break\n",
        "\n",
        "    response = model.generate_content(user_input)\n",
        "    print(\"Bot:\", response.text)\n"
      ],
      "metadata": {
        "colab": {
          "base_uri": "https://localhost:8080/",
          "height": 818
        },
        "id": "6PyB7snm2pQ8",
        "outputId": "97034919-0a56-4c50-d88a-feb88ae3c00f"
      },
      "execution_count": null,
      "outputs": [
        {
          "output_type": "stream",
          "name": "stdout",
          "text": [
            " Simple Gemini Chatbot\n",
            "Type 'exit' to stop.\n",
            "\n",
            "You: tell about cloud\n",
            "Bot: The term \"cloud\" in the context of computing refers to a vast network of remote servers that are connected and managed over the Internet. Instead of storing data and running applications on your personal computer or a local server, you use the cloud's resources.  Think of it like electricity – you don't need to understand how the power plant works to use electricity in your home. Similarly, you don't need to know the intricate details of the cloud's infrastructure to use its services.\n",
            "\n",
            "Here's a breakdown of key aspects of the cloud:\n",
            "\n",
            "**Key Characteristics:**\n",
            "\n",
            "* **On-demand self-service:**  Users can provision computing capabilities, such as server time and network storage, as needed automatically without requiring human interaction with each service provider.\n",
            "* **Broad network access:** Capabilities are available over the network and accessed through standard mechanisms that promote use by heterogeneous thin or thick client platforms (e.g., mobile phones, tablets, laptops, and workstations).\n",
            "* **Resource pooling:** The provider's computing resources are pooled to serve multiple consumers using a multi-tenant model, with different physical and virtual resources dynamically assigned and reassigned according to consumer demand.  This means that many users share the same physical infrastructure, increasing efficiency and lowering costs.\n",
            "* **Rapid elasticity:** Capabilities can be elastically provisioned and released, in some cases automatically, to scale rapidly outward and inward commensurate with demand. To the consumer, the capabilities available for provisioning often appear to be unlimited and can be appropriated in any quantity at any time.\n",
            "* **Measured service:** Cloud systems automatically control and optimize resource use by leveraging a metering capability at some level of abstraction appropriate to the type of service (e.g., storage, processing, bandwidth, and active user accounts). Resource usage can be monitored, controlled, and reported, providing transparency for both the provider and consumer of the utilized service.\n",
            "\n",
            "\n",
            "**Types of Cloud Services:**\n",
            "\n",
            "* **Infrastructure as a Service (IaaS):** Provides fundamental computing resources like virtual machines, storage, and networking.  Examples include Amazon EC2, Microsoft Azure Virtual Machines, and Google Compute Engine.  You manage the operating system and applications.\n",
            "* **Platform as a Service (PaaS):** Provides a platform for developing, running, and managing applications without the complexities of managing the underlying infrastructure. Examples include Google App Engine, AWS Elastic Beanstalk, and Heroku.  You manage the applications and data, but the provider manages the infrastructure.\n",
            "* **Software as a Service (SaaS):** Provides ready-to-use software applications over the internet. Examples include Gmail, Salesforce, and Microsoft Office 365. You only manage user accounts and data; the provider manages everything else.\n",
            "\n",
            "\n",
            "**Advantages of using the Cloud:**\n",
            "\n",
            "* **Cost-effectiveness:** Pay-as-you-go models eliminate the need for large upfront investments in hardware and infrastructure.\n",
            "* **Scalability and flexibility:** Easily scale resources up or down as needed, adapting to changing demands.\n",
            "* **Increased efficiency:** Automation and streamlined processes improve productivity.\n",
            "* **Accessibility:** Access data and applications from anywhere with an internet connection.\n",
            "* **Enhanced security:** Cloud providers typically invest heavily in security measures.\n",
            "\n",
            "\n",
            "**Disadvantages of using the Cloud:**\n",
            "\n",
            "* **Internet dependency:** Requires a stable internet connection.\n",
            "* **Vendor lock-in:** Migrating data and applications from one cloud provider to another can be challenging.\n",
            "* **Security concerns:** While cloud providers have robust security measures, data breaches are still possible.\n",
            "* **Downtime:** Cloud services can experience outages, impacting availability.\n",
            "\n",
            "\n",
            "In summary, the cloud is a transformative technology that offers numerous benefits for individuals and organizations, but it's important to understand its characteristics and potential drawbacks before adopting it.\n",
            "\n",
            "You: quit\n",
            "Bot: Goodbye! \n"
          ]
        }
      ]
    }
  ]
}
